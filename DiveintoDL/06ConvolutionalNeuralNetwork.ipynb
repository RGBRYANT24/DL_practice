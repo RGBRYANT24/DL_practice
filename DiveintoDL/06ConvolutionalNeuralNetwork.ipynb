{
 "cells": [
  {
   "cell_type": "markdown",
   "metadata": {},
   "source": [
    "# 6 CNN"
   ]
  },
  {
   "cell_type": "markdown",
   "metadata": {},
   "source": [
    "## 6.2 图像卷积\n"
   ]
  },
  {
   "cell_type": "markdown",
   "metadata": {},
   "source": [
    "### 6.2.1 互相关运算\n",
    "在卷积层中，输入张量和核张量通过互相关运算产生输出张量。\n",
    "因为要足够的空间在图像上“移动卷积核，可以通过在图像边界周围填充0来保证有足够的空间移动内核。从而保持输出大小不变"
   ]
  },
  {
   "cell_type": "code",
   "execution_count": 2,
   "metadata": {},
   "outputs": [],
   "source": [
    "import torch\n",
    "from torch import nn\n",
    "from d2l import torch as d2l\n",
    "\n",
    "def corr2d(X, K):\n",
    "    h, w = K.shape\n",
    "    Y = torch.zeros((X.shape[0] - h + 1, X.shape[1] - w + 1))\n",
    "    for i in range(Y.shape[0]):\n",
    "        for j in range(Y.shape[1]):\n",
    "            Y[i, j] = (X[i:i + h, j:j + w] * K).sum()\n",
    "    \n",
    "    return Y\n",
    "    "
   ]
  },
  {
   "cell_type": "code",
   "execution_count": 3,
   "metadata": {},
   "outputs": [
    {
     "data": {
      "text/plain": [
       "tensor([[19., 25.],\n",
       "        [37., 43.]])"
      ]
     },
     "execution_count": 3,
     "metadata": {},
     "output_type": "execute_result"
    }
   ],
   "source": [
    "X = torch.tensor([[0.0, 1.0, 2.0], [3.0, 4.0, 5.0], [6.0, 7.0, 8.0]])\n",
    "K = torch.tensor([[0.0, 1.0], [2.0, 3.0]])\n",
    "corr2d(X, K)"
   ]
  },
  {
   "cell_type": "markdown",
   "metadata": {},
   "source": [
    "### 6.2.2卷积层\n",
    "基于上面定义的corr2d函数实现二维卷积层。在__init__构造函数中，将weight和bias声明为两个模型参数，前向传播函数调用corr2d函数并添加偏置"
   ]
  },
  {
   "cell_type": "code",
   "execution_count": 6,
   "metadata": {},
   "outputs": [],
   "source": [
    "class Conv2D(nn.Module):\n",
    "    def __init__(self, kernel_size):\n",
    "        super().__init__()\n",
    "        self.weight = nn.Parameter(torch.rand(kernel_size))\n",
    "        self.bias = nn.Parameter(torch.zeors(1))\n",
    "        \n",
    "    def forward(self, x):\n",
    "        return corr2d(x, self.weight) + self.bias"
   ]
  },
  {
   "cell_type": "markdown",
   "metadata": {},
   "source": [
    "### 6.2.3 图像中目标的边缘检测\n"
   ]
  },
  {
   "cell_type": "code",
   "execution_count": 8,
   "metadata": {},
   "outputs": [
    {
     "data": {
      "text/plain": [
       "tensor([[1., 1., 0., 0., 0., 0., 1., 1.],\n",
       "        [1., 1., 0., 0., 0., 0., 1., 1.],\n",
       "        [1., 1., 0., 0., 0., 0., 1., 1.],\n",
       "        [1., 1., 0., 0., 0., 0., 1., 1.],\n",
       "        [1., 1., 0., 0., 0., 0., 1., 1.],\n",
       "        [1., 1., 0., 0., 0., 0., 1., 1.]])"
      ]
     },
     "execution_count": 8,
     "metadata": {},
     "output_type": "execute_result"
    }
   ],
   "source": [
    "X = torch.ones((6, 8))\n",
    "X[:, 2: 6] = 0\n",
    "X"
   ]
  },
  {
   "cell_type": "markdown",
   "metadata": {},
   "source": [
    "构造一个可以检测垂直边缘的卷积核"
   ]
  },
  {
   "cell_type": "code",
   "execution_count": 11,
   "metadata": {},
   "outputs": [
    {
     "data": {
      "text/plain": [
       "tensor([[ 0.,  1.,  0.,  0.,  0., -1.,  0.],\n",
       "        [ 0.,  1.,  0.,  0.,  0., -1.,  0.],\n",
       "        [ 0.,  1.,  0.,  0.,  0., -1.,  0.],\n",
       "        [ 0.,  1.,  0.,  0.,  0., -1.,  0.],\n",
       "        [ 0.,  1.,  0.,  0.,  0., -1.,  0.],\n",
       "        [ 0.,  1.,  0.,  0.,  0., -1.,  0.]])"
      ]
     },
     "execution_count": 11,
     "metadata": {},
     "output_type": "execute_result"
    }
   ],
   "source": [
    "K = torch.Tensor([[1.0, -1.0]])\n",
    "Y = corr2d(X, K)\n",
    "Y"
   ]
  },
  {
   "cell_type": "markdown",
   "metadata": {},
   "source": [
    "对水平边缘的检测就不太行"
   ]
  },
  {
   "cell_type": "code",
   "execution_count": 12,
   "metadata": {},
   "outputs": [
    {
     "data": {
      "text/plain": [
       "tensor([[0., 0., 0., 0., 0.],\n",
       "        [0., 0., 0., 0., 0.],\n",
       "        [0., 0., 0., 0., 0.],\n",
       "        [0., 0., 0., 0., 0.],\n",
       "        [0., 0., 0., 0., 0.],\n",
       "        [0., 0., 0., 0., 0.],\n",
       "        [0., 0., 0., 0., 0.],\n",
       "        [0., 0., 0., 0., 0.]])"
      ]
     },
     "execution_count": 12,
     "metadata": {},
     "output_type": "execute_result"
    }
   ],
   "source": [
    "corr2d(X.t(), K)"
   ]
  },
  {
   "cell_type": "markdown",
   "metadata": {},
   "source": [
    "### 6.2.4 学习卷积核\n"
   ]
  },
  {
   "cell_type": "code",
   "execution_count": 28,
   "metadata": {},
   "outputs": [
    {
     "name": "stdout",
     "output_type": "stream",
     "text": [
      "batch 1, loss 18.863\n",
      "batch 2, loss 17.485\n",
      "batch 3, loss 16.219\n",
      "batch 4, loss 15.052\n",
      "batch 5, loss 13.974\n",
      "batch 6, loss 12.977\n",
      "batch 7, loss 12.053\n",
      "batch 8, loss 11.197\n",
      "batch 9, loss 10.402\n",
      "batch 10, loss 9.665\n",
      "batch 11, loss 8.980\n",
      "batch 12, loss 8.345\n",
      "batch 13, loss 7.754\n",
      "batch 14, loss 7.205\n",
      "batch 15, loss 6.696\n",
      "batch 16, loss 6.222\n",
      "batch 17, loss 5.782\n",
      "batch 18, loss 5.373\n",
      "batch 19, loss 4.993\n",
      "batch 20, loss 4.640\n",
      "batch 21, loss 4.312\n",
      "batch 22, loss 4.007\n",
      "batch 23, loss 3.724\n",
      "batch 24, loss 3.461\n",
      "batch 25, loss 3.216\n",
      "batch 26, loss 2.989\n",
      "batch 27, loss 2.777\n",
      "batch 28, loss 2.581\n",
      "batch 29, loss 2.398\n",
      "batch 30, loss 2.229\n",
      "batch 31, loss 2.071\n",
      "batch 32, loss 1.925\n",
      "batch 33, loss 1.789\n",
      "batch 34, loss 1.662\n",
      "batch 35, loss 1.545\n",
      "batch 36, loss 1.435\n",
      "batch 37, loss 1.334\n",
      "batch 38, loss 1.240\n",
      "batch 39, loss 1.152\n",
      "batch 40, loss 1.071\n",
      "batch 41, loss 0.995\n",
      "batch 42, loss 0.925\n",
      "batch 43, loss 0.859\n",
      "batch 44, loss 0.798\n",
      "batch 45, loss 0.742\n",
      "batch 46, loss 0.689\n",
      "batch 47, loss 0.641\n",
      "batch 48, loss 0.595\n",
      "batch 49, loss 0.553\n",
      "batch 50, loss 0.514\n",
      "batch 51, loss 0.478\n",
      "batch 52, loss 0.444\n",
      "batch 53, loss 0.413\n",
      "batch 54, loss 0.384\n",
      "batch 55, loss 0.356\n",
      "batch 56, loss 0.331\n",
      "batch 57, loss 0.308\n",
      "batch 58, loss 0.286\n",
      "batch 59, loss 0.266\n",
      "batch 60, loss 0.247\n",
      "batch 61, loss 0.230\n",
      "batch 62, loss 0.213\n",
      "batch 63, loss 0.198\n",
      "batch 64, loss 0.184\n",
      "batch 65, loss 0.171\n",
      "batch 66, loss 0.159\n",
      "batch 67, loss 0.148\n",
      "batch 68, loss 0.137\n",
      "batch 69, loss 0.128\n",
      "batch 70, loss 0.119\n",
      "batch 71, loss 0.110\n",
      "batch 72, loss 0.102\n",
      "batch 73, loss 0.095\n",
      "batch 74, loss 0.088\n",
      "batch 75, loss 0.082\n",
      "batch 76, loss 0.076\n",
      "batch 77, loss 0.071\n",
      "batch 78, loss 0.066\n",
      "batch 79, loss 0.061\n",
      "batch 80, loss 0.057\n",
      "batch 81, loss 0.053\n",
      "batch 82, loss 0.049\n",
      "batch 83, loss 0.046\n",
      "batch 84, loss 0.042\n",
      "batch 85, loss 0.039\n",
      "batch 86, loss 0.037\n",
      "batch 87, loss 0.034\n",
      "batch 88, loss 0.032\n",
      "batch 89, loss 0.029\n",
      "batch 90, loss 0.027\n",
      "batch 91, loss 0.025\n",
      "batch 92, loss 0.024\n",
      "batch 93, loss 0.022\n",
      "batch 94, loss 0.020\n",
      "batch 95, loss 0.019\n",
      "batch 96, loss 0.018\n",
      "batch 97, loss 0.016\n",
      "batch 98, loss 0.015\n",
      "batch 99, loss 0.014\n",
      "batch 100, loss 0.013\n"
     ]
    }
   ],
   "source": [
    "conv2d = nn.Conv2d(1, 1, kernel_size=(1, 2), bias=False)\n",
    "\n",
    "#这个二维卷积层使用四维输入和输出格式（批量大小，通道，高度，宽度）\n",
    "#其中批量大小和通道数都是1\n",
    "\n",
    "X = X.reshape((1, 1, 6, 8))\n",
    "Y = Y.reshape((1, 1, 6, 7))\n",
    "\n",
    "for i in range(100):\n",
    "    Y_hat = conv2d(X)\n",
    "    l = (Y_hat - Y)  ** 2\n",
    "    conv2d.zero_grad()\n",
    "    l.sum().backward()\n",
    "    conv2d.weight.data[:] -= 0.003 * conv2d.weight.grad\n",
    "    print(f'batch {i+1}, loss {l.sum():.3f}')"
   ]
  },
  {
   "cell_type": "code",
   "execution_count": 29,
   "metadata": {},
   "outputs": [
    {
     "data": {
      "text/plain": [
       "tensor([[ 0.9681, -0.9681]])"
      ]
     },
     "execution_count": 29,
     "metadata": {},
     "output_type": "execute_result"
    }
   ],
   "source": [
    "conv2d.weight.data.reshape((1, 2))"
   ]
  },
  {
   "cell_type": "code",
   "execution_count": 30,
   "metadata": {},
   "outputs": [
    {
     "data": {
      "text/plain": [
       "tensor([[[[ 0.0000,  0.9681,  0.0000,  0.0000,  0.0000, -0.9681,  0.0000],\n",
       "          [ 0.0000,  0.9681,  0.0000,  0.0000,  0.0000, -0.9681,  0.0000],\n",
       "          [ 0.0000,  0.9681,  0.0000,  0.0000,  0.0000, -0.9681,  0.0000],\n",
       "          [ 0.0000,  0.9681,  0.0000,  0.0000,  0.0000, -0.9681,  0.0000],\n",
       "          [ 0.0000,  0.9681,  0.0000,  0.0000,  0.0000, -0.9681,  0.0000],\n",
       "          [ 0.0000,  0.9681,  0.0000,  0.0000,  0.0000, -0.9681,  0.0000]]]],\n",
       "       grad_fn=<ThnnConv2DBackward>)"
      ]
     },
     "execution_count": 30,
     "metadata": {},
     "output_type": "execute_result"
    }
   ],
   "source": [
    "conv2d(X)"
   ]
  },
  {
   "cell_type": "code",
   "execution_count": null,
   "metadata": {},
   "outputs": [],
   "source": []
  }
 ],
 "metadata": {
  "interpreter": {
   "hash": "6ddfb83b3bc8c92edabdc3e93e5c4c6338b18a29ac03b8c349b7596e5c53e5d2"
  },
  "kernelspec": {
   "display_name": "Python 3.7.11 64-bit ('torch': conda)",
   "language": "python",
   "name": "python3"
  },
  "language_info": {
   "codemirror_mode": {
    "name": "ipython",
    "version": 3
   },
   "file_extension": ".py",
   "mimetype": "text/x-python",
   "name": "python",
   "nbconvert_exporter": "python",
   "pygments_lexer": "ipython3",
   "version": "3.7.11"
  },
  "orig_nbformat": 4
 },
 "nbformat": 4,
 "nbformat_minor": 2
}
